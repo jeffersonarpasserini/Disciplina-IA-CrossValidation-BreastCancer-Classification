{
  "nbformat": 4,
  "nbformat_minor": 0,
  "metadata": {
    "colab": {
      "name": "BreastCancer_Winsconsin_university.ipynb",
      "provenance": []
    },
    "kernelspec": {
      "name": "python3",
      "display_name": "Python 3"
    },
    "language_info": {
      "name": "python"
    }
  },
  "cells": [
    {
      "cell_type": "markdown",
      "source": [
        "https://towardsdatascience.com/building-a-simple-machine-learning-model-on-breast-cancer-data-eca4b3b99fa3"
      ],
      "metadata": {
        "id": "13IZM3mK_fyW"
      }
    },
    {
      "cell_type": "code",
      "execution_count": 3,
      "metadata": {
        "id": "O4enaMdIVMQl"
      },
      "outputs": [],
      "source": [
        "#import libraries\n",
        "import numpy as np\n",
        "import matplotlib.pyplot as plt\n",
        "import pandas as pd"
      ]
    },
    {
      "cell_type": "markdown",
      "source": [
        "**Preparation phase**"
      ],
      "metadata": {
        "id": "wyl7UoOTg6O2"
      }
    },
    {
      "cell_type": "code",
      "source": [
        "#import dataset\n",
        "dataset = pd.read_csv(\"wdbc.data\", \n",
        "                      names=['sample_number','diagnostic','feat03','feat04','feat05','feat06','feat07','feat08','feat09','feat10','feat11','feat12','feat13','feat14','feat15','feat16',\n",
        "                             'feat17','feat18','feat19','feat20','feat21','feat22','feat23','feat24','feat25','feat26','feat27','feat28','feat29','feat30','feat31','feat32'], skiprows=1)"
      ],
      "metadata": {
        "id": "2XUSgEErWeNw"
      },
      "execution_count": 4,
      "outputs": []
    },
    {
      "cell_type": "code",
      "source": [
        "#describe stats\n",
        "dataset.describe()"
      ],
      "metadata": {
        "colab": {
          "base_uri": "https://localhost:8080/",
          "height": 394
        },
        "id": "oMs27HSmWeBN",
        "outputId": "ddee7d37-f60e-4ab9-f056-113642855bce"
      },
      "execution_count": 5,
      "outputs": [
        {
          "output_type": "execute_result",
          "data": {
            "text/plain": [
              "       sample_number      feat03      feat04      feat05       feat06  \\\n",
              "count   5.680000e+02  568.000000  568.000000  568.000000   568.000000   \n",
              "mean    3.042382e+07   14.120491   19.305335   91.914754   654.279754   \n",
              "std     1.251246e+08    3.523416    4.288506   24.285848   351.923751   \n",
              "min     8.670000e+03    6.981000    9.710000   43.790000   143.500000   \n",
              "25%     8.692225e+05   11.697500   16.177500   75.135000   420.175000   \n",
              "50%     9.061570e+05   13.355000   18.855000   86.210000   548.750000   \n",
              "75%     8.825022e+06   15.780000   21.802500  103.875000   782.625000   \n",
              "max     9.113205e+08   28.110000   39.280000  188.500000  2501.000000   \n",
              "\n",
              "           feat07      feat08      feat09      feat10      feat11  ...  \\\n",
              "count  568.000000  568.000000  568.000000  568.000000  568.000000  ...   \n",
              "mean     0.096321    0.104036    0.088427    0.048746    0.181055  ...   \n",
              "std      0.014046    0.052355    0.079294    0.038617    0.027319  ...   \n",
              "min      0.052630    0.019380    0.000000    0.000000    0.106000  ...   \n",
              "25%      0.086290    0.064815    0.029540    0.020310    0.161900  ...   \n",
              "50%      0.095865    0.092525    0.061400    0.033455    0.179200  ...   \n",
              "75%      0.105300    0.130400    0.129650    0.073730    0.195625  ...   \n",
              "max      0.163400    0.345400    0.426800    0.201200    0.304000  ...   \n",
              "\n",
              "          feat23      feat24      feat25       feat26      feat27      feat28  \\\n",
              "count  568.00000  568.000000  568.000000   568.000000  568.000000  568.000000   \n",
              "mean    16.25315   25.691919  107.125053   878.578873    0.132316    0.253541   \n",
              "std      4.82232    6.141662   33.474687   567.846267    0.022818    0.156523   \n",
              "min      7.93000   12.020000   50.410000   185.200000    0.071170    0.027290   \n",
              "25%     13.01000   21.095000   84.102500   514.975000    0.116600    0.146900   \n",
              "50%     14.96500   25.425000   97.655000   685.550000    0.131300    0.211850   \n",
              "75%     18.76750   29.757500  125.175000  1073.500000    0.146000    0.337600   \n",
              "max     36.04000   49.540000  251.200000  4254.000000    0.222600    1.058000   \n",
              "\n",
              "           feat29      feat30      feat31      feat32  \n",
              "count  568.000000  568.000000  568.000000  568.000000  \n",
              "mean     0.271414    0.114341    0.289776    0.083884  \n",
              "std      0.207989    0.065484    0.061508    0.018017  \n",
              "min      0.000000    0.000000    0.156500    0.055040  \n",
              "25%      0.114475    0.064730    0.250350    0.071412  \n",
              "50%      0.226550    0.099840    0.282050    0.080015  \n",
              "75%      0.381400    0.161325    0.317675    0.092065  \n",
              "max      1.252000    0.291000    0.663800    0.207500  \n",
              "\n",
              "[8 rows x 31 columns]"
            ],
            "text/html": [
              "\n",
              "  <div id=\"df-243990c0-838e-4143-ba98-28428a70d886\">\n",
              "    <div class=\"colab-df-container\">\n",
              "      <div>\n",
              "<style scoped>\n",
              "    .dataframe tbody tr th:only-of-type {\n",
              "        vertical-align: middle;\n",
              "    }\n",
              "\n",
              "    .dataframe tbody tr th {\n",
              "        vertical-align: top;\n",
              "    }\n",
              "\n",
              "    .dataframe thead th {\n",
              "        text-align: right;\n",
              "    }\n",
              "</style>\n",
              "<table border=\"1\" class=\"dataframe\">\n",
              "  <thead>\n",
              "    <tr style=\"text-align: right;\">\n",
              "      <th></th>\n",
              "      <th>sample_number</th>\n",
              "      <th>feat03</th>\n",
              "      <th>feat04</th>\n",
              "      <th>feat05</th>\n",
              "      <th>feat06</th>\n",
              "      <th>feat07</th>\n",
              "      <th>feat08</th>\n",
              "      <th>feat09</th>\n",
              "      <th>feat10</th>\n",
              "      <th>feat11</th>\n",
              "      <th>...</th>\n",
              "      <th>feat23</th>\n",
              "      <th>feat24</th>\n",
              "      <th>feat25</th>\n",
              "      <th>feat26</th>\n",
              "      <th>feat27</th>\n",
              "      <th>feat28</th>\n",
              "      <th>feat29</th>\n",
              "      <th>feat30</th>\n",
              "      <th>feat31</th>\n",
              "      <th>feat32</th>\n",
              "    </tr>\n",
              "  </thead>\n",
              "  <tbody>\n",
              "    <tr>\n",
              "      <th>count</th>\n",
              "      <td>5.680000e+02</td>\n",
              "      <td>568.000000</td>\n",
              "      <td>568.000000</td>\n",
              "      <td>568.000000</td>\n",
              "      <td>568.000000</td>\n",
              "      <td>568.000000</td>\n",
              "      <td>568.000000</td>\n",
              "      <td>568.000000</td>\n",
              "      <td>568.000000</td>\n",
              "      <td>568.000000</td>\n",
              "      <td>...</td>\n",
              "      <td>568.00000</td>\n",
              "      <td>568.000000</td>\n",
              "      <td>568.000000</td>\n",
              "      <td>568.000000</td>\n",
              "      <td>568.000000</td>\n",
              "      <td>568.000000</td>\n",
              "      <td>568.000000</td>\n",
              "      <td>568.000000</td>\n",
              "      <td>568.000000</td>\n",
              "      <td>568.000000</td>\n",
              "    </tr>\n",
              "    <tr>\n",
              "      <th>mean</th>\n",
              "      <td>3.042382e+07</td>\n",
              "      <td>14.120491</td>\n",
              "      <td>19.305335</td>\n",
              "      <td>91.914754</td>\n",
              "      <td>654.279754</td>\n",
              "      <td>0.096321</td>\n",
              "      <td>0.104036</td>\n",
              "      <td>0.088427</td>\n",
              "      <td>0.048746</td>\n",
              "      <td>0.181055</td>\n",
              "      <td>...</td>\n",
              "      <td>16.25315</td>\n",
              "      <td>25.691919</td>\n",
              "      <td>107.125053</td>\n",
              "      <td>878.578873</td>\n",
              "      <td>0.132316</td>\n",
              "      <td>0.253541</td>\n",
              "      <td>0.271414</td>\n",
              "      <td>0.114341</td>\n",
              "      <td>0.289776</td>\n",
              "      <td>0.083884</td>\n",
              "    </tr>\n",
              "    <tr>\n",
              "      <th>std</th>\n",
              "      <td>1.251246e+08</td>\n",
              "      <td>3.523416</td>\n",
              "      <td>4.288506</td>\n",
              "      <td>24.285848</td>\n",
              "      <td>351.923751</td>\n",
              "      <td>0.014046</td>\n",
              "      <td>0.052355</td>\n",
              "      <td>0.079294</td>\n",
              "      <td>0.038617</td>\n",
              "      <td>0.027319</td>\n",
              "      <td>...</td>\n",
              "      <td>4.82232</td>\n",
              "      <td>6.141662</td>\n",
              "      <td>33.474687</td>\n",
              "      <td>567.846267</td>\n",
              "      <td>0.022818</td>\n",
              "      <td>0.156523</td>\n",
              "      <td>0.207989</td>\n",
              "      <td>0.065484</td>\n",
              "      <td>0.061508</td>\n",
              "      <td>0.018017</td>\n",
              "    </tr>\n",
              "    <tr>\n",
              "      <th>min</th>\n",
              "      <td>8.670000e+03</td>\n",
              "      <td>6.981000</td>\n",
              "      <td>9.710000</td>\n",
              "      <td>43.790000</td>\n",
              "      <td>143.500000</td>\n",
              "      <td>0.052630</td>\n",
              "      <td>0.019380</td>\n",
              "      <td>0.000000</td>\n",
              "      <td>0.000000</td>\n",
              "      <td>0.106000</td>\n",
              "      <td>...</td>\n",
              "      <td>7.93000</td>\n",
              "      <td>12.020000</td>\n",
              "      <td>50.410000</td>\n",
              "      <td>185.200000</td>\n",
              "      <td>0.071170</td>\n",
              "      <td>0.027290</td>\n",
              "      <td>0.000000</td>\n",
              "      <td>0.000000</td>\n",
              "      <td>0.156500</td>\n",
              "      <td>0.055040</td>\n",
              "    </tr>\n",
              "    <tr>\n",
              "      <th>25%</th>\n",
              "      <td>8.692225e+05</td>\n",
              "      <td>11.697500</td>\n",
              "      <td>16.177500</td>\n",
              "      <td>75.135000</td>\n",
              "      <td>420.175000</td>\n",
              "      <td>0.086290</td>\n",
              "      <td>0.064815</td>\n",
              "      <td>0.029540</td>\n",
              "      <td>0.020310</td>\n",
              "      <td>0.161900</td>\n",
              "      <td>...</td>\n",
              "      <td>13.01000</td>\n",
              "      <td>21.095000</td>\n",
              "      <td>84.102500</td>\n",
              "      <td>514.975000</td>\n",
              "      <td>0.116600</td>\n",
              "      <td>0.146900</td>\n",
              "      <td>0.114475</td>\n",
              "      <td>0.064730</td>\n",
              "      <td>0.250350</td>\n",
              "      <td>0.071412</td>\n",
              "    </tr>\n",
              "    <tr>\n",
              "      <th>50%</th>\n",
              "      <td>9.061570e+05</td>\n",
              "      <td>13.355000</td>\n",
              "      <td>18.855000</td>\n",
              "      <td>86.210000</td>\n",
              "      <td>548.750000</td>\n",
              "      <td>0.095865</td>\n",
              "      <td>0.092525</td>\n",
              "      <td>0.061400</td>\n",
              "      <td>0.033455</td>\n",
              "      <td>0.179200</td>\n",
              "      <td>...</td>\n",
              "      <td>14.96500</td>\n",
              "      <td>25.425000</td>\n",
              "      <td>97.655000</td>\n",
              "      <td>685.550000</td>\n",
              "      <td>0.131300</td>\n",
              "      <td>0.211850</td>\n",
              "      <td>0.226550</td>\n",
              "      <td>0.099840</td>\n",
              "      <td>0.282050</td>\n",
              "      <td>0.080015</td>\n",
              "    </tr>\n",
              "    <tr>\n",
              "      <th>75%</th>\n",
              "      <td>8.825022e+06</td>\n",
              "      <td>15.780000</td>\n",
              "      <td>21.802500</td>\n",
              "      <td>103.875000</td>\n",
              "      <td>782.625000</td>\n",
              "      <td>0.105300</td>\n",
              "      <td>0.130400</td>\n",
              "      <td>0.129650</td>\n",
              "      <td>0.073730</td>\n",
              "      <td>0.195625</td>\n",
              "      <td>...</td>\n",
              "      <td>18.76750</td>\n",
              "      <td>29.757500</td>\n",
              "      <td>125.175000</td>\n",
              "      <td>1073.500000</td>\n",
              "      <td>0.146000</td>\n",
              "      <td>0.337600</td>\n",
              "      <td>0.381400</td>\n",
              "      <td>0.161325</td>\n",
              "      <td>0.317675</td>\n",
              "      <td>0.092065</td>\n",
              "    </tr>\n",
              "    <tr>\n",
              "      <th>max</th>\n",
              "      <td>9.113205e+08</td>\n",
              "      <td>28.110000</td>\n",
              "      <td>39.280000</td>\n",
              "      <td>188.500000</td>\n",
              "      <td>2501.000000</td>\n",
              "      <td>0.163400</td>\n",
              "      <td>0.345400</td>\n",
              "      <td>0.426800</td>\n",
              "      <td>0.201200</td>\n",
              "      <td>0.304000</td>\n",
              "      <td>...</td>\n",
              "      <td>36.04000</td>\n",
              "      <td>49.540000</td>\n",
              "      <td>251.200000</td>\n",
              "      <td>4254.000000</td>\n",
              "      <td>0.222600</td>\n",
              "      <td>1.058000</td>\n",
              "      <td>1.252000</td>\n",
              "      <td>0.291000</td>\n",
              "      <td>0.663800</td>\n",
              "      <td>0.207500</td>\n",
              "    </tr>\n",
              "  </tbody>\n",
              "</table>\n",
              "<p>8 rows × 31 columns</p>\n",
              "</div>\n",
              "      <button class=\"colab-df-convert\" onclick=\"convertToInteractive('df-243990c0-838e-4143-ba98-28428a70d886')\"\n",
              "              title=\"Convert this dataframe to an interactive table.\"\n",
              "              style=\"display:none;\">\n",
              "        \n",
              "  <svg xmlns=\"http://www.w3.org/2000/svg\" height=\"24px\"viewBox=\"0 0 24 24\"\n",
              "       width=\"24px\">\n",
              "    <path d=\"M0 0h24v24H0V0z\" fill=\"none\"/>\n",
              "    <path d=\"M18.56 5.44l.94 2.06.94-2.06 2.06-.94-2.06-.94-.94-2.06-.94 2.06-2.06.94zm-11 1L8.5 8.5l.94-2.06 2.06-.94-2.06-.94L8.5 2.5l-.94 2.06-2.06.94zm10 10l.94 2.06.94-2.06 2.06-.94-2.06-.94-.94-2.06-.94 2.06-2.06.94z\"/><path d=\"M17.41 7.96l-1.37-1.37c-.4-.4-.92-.59-1.43-.59-.52 0-1.04.2-1.43.59L10.3 9.45l-7.72 7.72c-.78.78-.78 2.05 0 2.83L4 21.41c.39.39.9.59 1.41.59.51 0 1.02-.2 1.41-.59l7.78-7.78 2.81-2.81c.8-.78.8-2.07 0-2.86zM5.41 20L4 18.59l7.72-7.72 1.47 1.35L5.41 20z\"/>\n",
              "  </svg>\n",
              "      </button>\n",
              "      \n",
              "  <style>\n",
              "    .colab-df-container {\n",
              "      display:flex;\n",
              "      flex-wrap:wrap;\n",
              "      gap: 12px;\n",
              "    }\n",
              "\n",
              "    .colab-df-convert {\n",
              "      background-color: #E8F0FE;\n",
              "      border: none;\n",
              "      border-radius: 50%;\n",
              "      cursor: pointer;\n",
              "      display: none;\n",
              "      fill: #1967D2;\n",
              "      height: 32px;\n",
              "      padding: 0 0 0 0;\n",
              "      width: 32px;\n",
              "    }\n",
              "\n",
              "    .colab-df-convert:hover {\n",
              "      background-color: #E2EBFA;\n",
              "      box-shadow: 0px 1px 2px rgba(60, 64, 67, 0.3), 0px 1px 3px 1px rgba(60, 64, 67, 0.15);\n",
              "      fill: #174EA6;\n",
              "    }\n",
              "\n",
              "    [theme=dark] .colab-df-convert {\n",
              "      background-color: #3B4455;\n",
              "      fill: #D2E3FC;\n",
              "    }\n",
              "\n",
              "    [theme=dark] .colab-df-convert:hover {\n",
              "      background-color: #434B5C;\n",
              "      box-shadow: 0px 1px 3px 1px rgba(0, 0, 0, 0.15);\n",
              "      filter: drop-shadow(0px 1px 2px rgba(0, 0, 0, 0.3));\n",
              "      fill: #FFFFFF;\n",
              "    }\n",
              "  </style>\n",
              "\n",
              "      <script>\n",
              "        const buttonEl =\n",
              "          document.querySelector('#df-243990c0-838e-4143-ba98-28428a70d886 button.colab-df-convert');\n",
              "        buttonEl.style.display =\n",
              "          google.colab.kernel.accessAllowed ? 'block' : 'none';\n",
              "\n",
              "        async function convertToInteractive(key) {\n",
              "          const element = document.querySelector('#df-243990c0-838e-4143-ba98-28428a70d886');\n",
              "          const dataTable =\n",
              "            await google.colab.kernel.invokeFunction('convertToInteractive',\n",
              "                                                     [key], {});\n",
              "          if (!dataTable) return;\n",
              "\n",
              "          const docLinkHtml = 'Like what you see? Visit the ' +\n",
              "            '<a target=\"_blank\" href=https://colab.research.google.com/notebooks/data_table.ipynb>data table notebook</a>'\n",
              "            + ' to learn more about interactive tables.';\n",
              "          element.innerHTML = '';\n",
              "          dataTable['output_type'] = 'display_data';\n",
              "          await google.colab.output.renderOutput(dataTable, element);\n",
              "          const docLink = document.createElement('div');\n",
              "          docLink.innerHTML = docLinkHtml;\n",
              "          element.appendChild(docLink);\n",
              "        }\n",
              "      </script>\n",
              "    </div>\n",
              "  </div>\n",
              "  "
            ]
          },
          "metadata": {},
          "execution_count": 5
        }
      ]
    },
    {
      "cell_type": "code",
      "source": [
        "#data visualize\n",
        "dataset.head()"
      ],
      "metadata": {
        "colab": {
          "base_uri": "https://localhost:8080/",
          "height": 300
        },
        "id": "BWvBbiWOWd4u",
        "outputId": "ad76cc4e-2a63-4d9f-83be-511f23c0ece8"
      },
      "execution_count": 6,
      "outputs": [
        {
          "output_type": "execute_result",
          "data": {
            "text/plain": [
              "   sample_number diagnostic  feat03  feat04  feat05  feat06   feat07   feat08  \\\n",
              "0         842517          M   20.57   17.77  132.90  1326.0  0.08474  0.07864   \n",
              "1       84300903          M   19.69   21.25  130.00  1203.0  0.10960  0.15990   \n",
              "2       84348301          M   11.42   20.38   77.58   386.1  0.14250  0.28390   \n",
              "3       84358402          M   20.29   14.34  135.10  1297.0  0.10030  0.13280   \n",
              "4         843786          M   12.45   15.70   82.57   477.1  0.12780  0.17000   \n",
              "\n",
              "   feat09   feat10  ...  feat23  feat24  feat25  feat26  feat27  feat28  \\\n",
              "0  0.0869  0.07017  ...   24.99   23.41  158.80  1956.0  0.1238  0.1866   \n",
              "1  0.1974  0.12790  ...   23.57   25.53  152.50  1709.0  0.1444  0.4245   \n",
              "2  0.2414  0.10520  ...   14.91   26.50   98.87   567.7  0.2098  0.8663   \n",
              "3  0.1980  0.10430  ...   22.54   16.67  152.20  1575.0  0.1374  0.2050   \n",
              "4  0.1578  0.08089  ...   15.47   23.75  103.40   741.6  0.1791  0.5249   \n",
              "\n",
              "   feat29  feat30  feat31   feat32  \n",
              "0  0.2416  0.1860  0.2750  0.08902  \n",
              "1  0.4504  0.2430  0.3613  0.08758  \n",
              "2  0.6869  0.2575  0.6638  0.17300  \n",
              "3  0.4000  0.1625  0.2364  0.07678  \n",
              "4  0.5355  0.1741  0.3985  0.12440  \n",
              "\n",
              "[5 rows x 32 columns]"
            ],
            "text/html": [
              "\n",
              "  <div id=\"df-1224ca93-ad7d-4e67-878a-c1729ece364b\">\n",
              "    <div class=\"colab-df-container\">\n",
              "      <div>\n",
              "<style scoped>\n",
              "    .dataframe tbody tr th:only-of-type {\n",
              "        vertical-align: middle;\n",
              "    }\n",
              "\n",
              "    .dataframe tbody tr th {\n",
              "        vertical-align: top;\n",
              "    }\n",
              "\n",
              "    .dataframe thead th {\n",
              "        text-align: right;\n",
              "    }\n",
              "</style>\n",
              "<table border=\"1\" class=\"dataframe\">\n",
              "  <thead>\n",
              "    <tr style=\"text-align: right;\">\n",
              "      <th></th>\n",
              "      <th>sample_number</th>\n",
              "      <th>diagnostic</th>\n",
              "      <th>feat03</th>\n",
              "      <th>feat04</th>\n",
              "      <th>feat05</th>\n",
              "      <th>feat06</th>\n",
              "      <th>feat07</th>\n",
              "      <th>feat08</th>\n",
              "      <th>feat09</th>\n",
              "      <th>feat10</th>\n",
              "      <th>...</th>\n",
              "      <th>feat23</th>\n",
              "      <th>feat24</th>\n",
              "      <th>feat25</th>\n",
              "      <th>feat26</th>\n",
              "      <th>feat27</th>\n",
              "      <th>feat28</th>\n",
              "      <th>feat29</th>\n",
              "      <th>feat30</th>\n",
              "      <th>feat31</th>\n",
              "      <th>feat32</th>\n",
              "    </tr>\n",
              "  </thead>\n",
              "  <tbody>\n",
              "    <tr>\n",
              "      <th>0</th>\n",
              "      <td>842517</td>\n",
              "      <td>M</td>\n",
              "      <td>20.57</td>\n",
              "      <td>17.77</td>\n",
              "      <td>132.90</td>\n",
              "      <td>1326.0</td>\n",
              "      <td>0.08474</td>\n",
              "      <td>0.07864</td>\n",
              "      <td>0.0869</td>\n",
              "      <td>0.07017</td>\n",
              "      <td>...</td>\n",
              "      <td>24.99</td>\n",
              "      <td>23.41</td>\n",
              "      <td>158.80</td>\n",
              "      <td>1956.0</td>\n",
              "      <td>0.1238</td>\n",
              "      <td>0.1866</td>\n",
              "      <td>0.2416</td>\n",
              "      <td>0.1860</td>\n",
              "      <td>0.2750</td>\n",
              "      <td>0.08902</td>\n",
              "    </tr>\n",
              "    <tr>\n",
              "      <th>1</th>\n",
              "      <td>84300903</td>\n",
              "      <td>M</td>\n",
              "      <td>19.69</td>\n",
              "      <td>21.25</td>\n",
              "      <td>130.00</td>\n",
              "      <td>1203.0</td>\n",
              "      <td>0.10960</td>\n",
              "      <td>0.15990</td>\n",
              "      <td>0.1974</td>\n",
              "      <td>0.12790</td>\n",
              "      <td>...</td>\n",
              "      <td>23.57</td>\n",
              "      <td>25.53</td>\n",
              "      <td>152.50</td>\n",
              "      <td>1709.0</td>\n",
              "      <td>0.1444</td>\n",
              "      <td>0.4245</td>\n",
              "      <td>0.4504</td>\n",
              "      <td>0.2430</td>\n",
              "      <td>0.3613</td>\n",
              "      <td>0.08758</td>\n",
              "    </tr>\n",
              "    <tr>\n",
              "      <th>2</th>\n",
              "      <td>84348301</td>\n",
              "      <td>M</td>\n",
              "      <td>11.42</td>\n",
              "      <td>20.38</td>\n",
              "      <td>77.58</td>\n",
              "      <td>386.1</td>\n",
              "      <td>0.14250</td>\n",
              "      <td>0.28390</td>\n",
              "      <td>0.2414</td>\n",
              "      <td>0.10520</td>\n",
              "      <td>...</td>\n",
              "      <td>14.91</td>\n",
              "      <td>26.50</td>\n",
              "      <td>98.87</td>\n",
              "      <td>567.7</td>\n",
              "      <td>0.2098</td>\n",
              "      <td>0.8663</td>\n",
              "      <td>0.6869</td>\n",
              "      <td>0.2575</td>\n",
              "      <td>0.6638</td>\n",
              "      <td>0.17300</td>\n",
              "    </tr>\n",
              "    <tr>\n",
              "      <th>3</th>\n",
              "      <td>84358402</td>\n",
              "      <td>M</td>\n",
              "      <td>20.29</td>\n",
              "      <td>14.34</td>\n",
              "      <td>135.10</td>\n",
              "      <td>1297.0</td>\n",
              "      <td>0.10030</td>\n",
              "      <td>0.13280</td>\n",
              "      <td>0.1980</td>\n",
              "      <td>0.10430</td>\n",
              "      <td>...</td>\n",
              "      <td>22.54</td>\n",
              "      <td>16.67</td>\n",
              "      <td>152.20</td>\n",
              "      <td>1575.0</td>\n",
              "      <td>0.1374</td>\n",
              "      <td>0.2050</td>\n",
              "      <td>0.4000</td>\n",
              "      <td>0.1625</td>\n",
              "      <td>0.2364</td>\n",
              "      <td>0.07678</td>\n",
              "    </tr>\n",
              "    <tr>\n",
              "      <th>4</th>\n",
              "      <td>843786</td>\n",
              "      <td>M</td>\n",
              "      <td>12.45</td>\n",
              "      <td>15.70</td>\n",
              "      <td>82.57</td>\n",
              "      <td>477.1</td>\n",
              "      <td>0.12780</td>\n",
              "      <td>0.17000</td>\n",
              "      <td>0.1578</td>\n",
              "      <td>0.08089</td>\n",
              "      <td>...</td>\n",
              "      <td>15.47</td>\n",
              "      <td>23.75</td>\n",
              "      <td>103.40</td>\n",
              "      <td>741.6</td>\n",
              "      <td>0.1791</td>\n",
              "      <td>0.5249</td>\n",
              "      <td>0.5355</td>\n",
              "      <td>0.1741</td>\n",
              "      <td>0.3985</td>\n",
              "      <td>0.12440</td>\n",
              "    </tr>\n",
              "  </tbody>\n",
              "</table>\n",
              "<p>5 rows × 32 columns</p>\n",
              "</div>\n",
              "      <button class=\"colab-df-convert\" onclick=\"convertToInteractive('df-1224ca93-ad7d-4e67-878a-c1729ece364b')\"\n",
              "              title=\"Convert this dataframe to an interactive table.\"\n",
              "              style=\"display:none;\">\n",
              "        \n",
              "  <svg xmlns=\"http://www.w3.org/2000/svg\" height=\"24px\"viewBox=\"0 0 24 24\"\n",
              "       width=\"24px\">\n",
              "    <path d=\"M0 0h24v24H0V0z\" fill=\"none\"/>\n",
              "    <path d=\"M18.56 5.44l.94 2.06.94-2.06 2.06-.94-2.06-.94-.94-2.06-.94 2.06-2.06.94zm-11 1L8.5 8.5l.94-2.06 2.06-.94-2.06-.94L8.5 2.5l-.94 2.06-2.06.94zm10 10l.94 2.06.94-2.06 2.06-.94-2.06-.94-.94-2.06-.94 2.06-2.06.94z\"/><path d=\"M17.41 7.96l-1.37-1.37c-.4-.4-.92-.59-1.43-.59-.52 0-1.04.2-1.43.59L10.3 9.45l-7.72 7.72c-.78.78-.78 2.05 0 2.83L4 21.41c.39.39.9.59 1.41.59.51 0 1.02-.2 1.41-.59l7.78-7.78 2.81-2.81c.8-.78.8-2.07 0-2.86zM5.41 20L4 18.59l7.72-7.72 1.47 1.35L5.41 20z\"/>\n",
              "  </svg>\n",
              "      </button>\n",
              "      \n",
              "  <style>\n",
              "    .colab-df-container {\n",
              "      display:flex;\n",
              "      flex-wrap:wrap;\n",
              "      gap: 12px;\n",
              "    }\n",
              "\n",
              "    .colab-df-convert {\n",
              "      background-color: #E8F0FE;\n",
              "      border: none;\n",
              "      border-radius: 50%;\n",
              "      cursor: pointer;\n",
              "      display: none;\n",
              "      fill: #1967D2;\n",
              "      height: 32px;\n",
              "      padding: 0 0 0 0;\n",
              "      width: 32px;\n",
              "    }\n",
              "\n",
              "    .colab-df-convert:hover {\n",
              "      background-color: #E2EBFA;\n",
              "      box-shadow: 0px 1px 2px rgba(60, 64, 67, 0.3), 0px 1px 3px 1px rgba(60, 64, 67, 0.15);\n",
              "      fill: #174EA6;\n",
              "    }\n",
              "\n",
              "    [theme=dark] .colab-df-convert {\n",
              "      background-color: #3B4455;\n",
              "      fill: #D2E3FC;\n",
              "    }\n",
              "\n",
              "    [theme=dark] .colab-df-convert:hover {\n",
              "      background-color: #434B5C;\n",
              "      box-shadow: 0px 1px 3px 1px rgba(0, 0, 0, 0.15);\n",
              "      filter: drop-shadow(0px 1px 2px rgba(0, 0, 0, 0.3));\n",
              "      fill: #FFFFFF;\n",
              "    }\n",
              "  </style>\n",
              "\n",
              "      <script>\n",
              "        const buttonEl =\n",
              "          document.querySelector('#df-1224ca93-ad7d-4e67-878a-c1729ece364b button.colab-df-convert');\n",
              "        buttonEl.style.display =\n",
              "          google.colab.kernel.accessAllowed ? 'block' : 'none';\n",
              "\n",
              "        async function convertToInteractive(key) {\n",
              "          const element = document.querySelector('#df-1224ca93-ad7d-4e67-878a-c1729ece364b');\n",
              "          const dataTable =\n",
              "            await google.colab.kernel.invokeFunction('convertToInteractive',\n",
              "                                                     [key], {});\n",
              "          if (!dataTable) return;\n",
              "\n",
              "          const docLinkHtml = 'Like what you see? Visit the ' +\n",
              "            '<a target=\"_blank\" href=https://colab.research.google.com/notebooks/data_table.ipynb>data table notebook</a>'\n",
              "            + ' to learn more about interactive tables.';\n",
              "          element.innerHTML = '';\n",
              "          dataTable['output_type'] = 'display_data';\n",
              "          await google.colab.output.renderOutput(dataTable, element);\n",
              "          const docLink = document.createElement('div');\n",
              "          docLink.innerHTML = docLinkHtml;\n",
              "          element.appendChild(docLink);\n",
              "        }\n",
              "      </script>\n",
              "    </div>\n",
              "  </div>\n",
              "  "
            ]
          },
          "metadata": {},
          "execution_count": 6
        }
      ]
    },
    {
      "cell_type": "code",
      "source": [
        "#verify dimensions of dataset\n",
        "print(\"Cancer data set dimensions : {}\".format(dataset.shape))"
      ],
      "metadata": {
        "colab": {
          "base_uri": "https://localhost:8080/"
        },
        "id": "WCz_Wh-BWdul",
        "outputId": "7e424053-cfc3-4e33-ce13-4f743cfd88f6"
      },
      "execution_count": 7,
      "outputs": [
        {
          "output_type": "stream",
          "name": "stdout",
          "text": [
            "Cancer data set dimensions : (568, 32)\n"
          ]
        }
      ]
    },
    {
      "cell_type": "code",
      "source": [
        "#verify null values\n",
        "dataset.isnull().sum()\n",
        "dataset.isna().sum()"
      ],
      "metadata": {
        "colab": {
          "base_uri": "https://localhost:8080/"
        },
        "id": "ZTwK7Umee0P1",
        "outputId": "50e75b01-188a-477f-90b4-7d36838e6f1b"
      },
      "execution_count": 8,
      "outputs": [
        {
          "output_type": "execute_result",
          "data": {
            "text/plain": [
              "sample_number    0\n",
              "diagnostic       0\n",
              "feat03           0\n",
              "feat04           0\n",
              "feat05           0\n",
              "feat06           0\n",
              "feat07           0\n",
              "feat08           0\n",
              "feat09           0\n",
              "feat10           0\n",
              "feat11           0\n",
              "feat12           0\n",
              "feat13           0\n",
              "feat14           0\n",
              "feat15           0\n",
              "feat16           0\n",
              "feat17           0\n",
              "feat18           0\n",
              "feat19           0\n",
              "feat20           0\n",
              "feat21           0\n",
              "feat22           0\n",
              "feat23           0\n",
              "feat24           0\n",
              "feat25           0\n",
              "feat26           0\n",
              "feat27           0\n",
              "feat28           0\n",
              "feat29           0\n",
              "feat30           0\n",
              "feat31           0\n",
              "feat32           0\n",
              "dtype: int64"
            ]
          },
          "metadata": {},
          "execution_count": 8
        }
      ]
    },
    {
      "cell_type": "code",
      "source": [
        "#define X samples and y results\n",
        "X = dataset.iloc[:, 2:31].values\n",
        "y = dataset.iloc[:, 1].values"
      ],
      "metadata": {
        "id": "PCOcpaWpe0do"
      },
      "execution_count": 9,
      "outputs": []
    },
    {
      "cell_type": "code",
      "source": [
        "X"
      ],
      "metadata": {
        "colab": {
          "base_uri": "https://localhost:8080/"
        },
        "id": "sLgfGq_Ve0oM",
        "outputId": "7b8934f7-c100-4837-fe16-312996d55334"
      },
      "execution_count": 10,
      "outputs": [
        {
          "output_type": "execute_result",
          "data": {
            "text/plain": [
              "array([[ 20.57  ,  17.77  , 132.9   , ...,   0.2416,   0.186 ,   0.275 ],\n",
              "       [ 19.69  ,  21.25  , 130.    , ...,   0.4504,   0.243 ,   0.3613],\n",
              "       [ 11.42  ,  20.38  ,  77.58  , ...,   0.6869,   0.2575,   0.6638],\n",
              "       ...,\n",
              "       [ 16.6   ,  28.08  , 108.3   , ...,   0.3403,   0.1418,   0.2218],\n",
              "       [ 20.6   ,  29.33  , 140.1   , ...,   0.9387,   0.265 ,   0.4087],\n",
              "       [  7.76  ,  24.54  ,  47.92  , ...,   0.    ,   0.    ,   0.2871]])"
            ]
          },
          "metadata": {},
          "execution_count": 10
        }
      ]
    },
    {
      "cell_type": "code",
      "source": [
        "y"
      ],
      "metadata": {
        "colab": {
          "base_uri": "https://localhost:8080/"
        },
        "id": "9yZ755rUe_U6",
        "outputId": "8e21b06c-b457-48fc-9178-d302f3b22b43"
      },
      "execution_count": 11,
      "outputs": [
        {
          "output_type": "execute_result",
          "data": {
            "text/plain": [
              "array(['M', 'M', 'M', 'M', 'M', 'M', 'M', 'M', 'M', 'M', 'M', 'M', 'M',\n",
              "       'M', 'M', 'M', 'M', 'M', 'B', 'B', 'B', 'M', 'M', 'M', 'M', 'M',\n",
              "       'M', 'M', 'M', 'M', 'M', 'M', 'M', 'M', 'M', 'M', 'B', 'M', 'M',\n",
              "       'M', 'M', 'M', 'M', 'M', 'M', 'B', 'M', 'B', 'B', 'B', 'B', 'B',\n",
              "       'M', 'M', 'B', 'M', 'M', 'B', 'B', 'B', 'B', 'M', 'B', 'M', 'M',\n",
              "       'B', 'B', 'B', 'B', 'M', 'B', 'M', 'M', 'B', 'M', 'B', 'M', 'M',\n",
              "       'B', 'B', 'B', 'M', 'M', 'B', 'M', 'M', 'M', 'B', 'B', 'B', 'M',\n",
              "       'B', 'B', 'M', 'M', 'B', 'B', 'B', 'M', 'M', 'B', 'B', 'B', 'B',\n",
              "       'M', 'B', 'B', 'M', 'B', 'B', 'B', 'B', 'B', 'B', 'B', 'B', 'M',\n",
              "       'M', 'M', 'B', 'M', 'M', 'B', 'B', 'B', 'M', 'M', 'B', 'M', 'B',\n",
              "       'M', 'M', 'B', 'M', 'M', 'B', 'B', 'M', 'B', 'B', 'M', 'B', 'B',\n",
              "       'B', 'B', 'M', 'B', 'B', 'B', 'B', 'B', 'B', 'B', 'B', 'B', 'M',\n",
              "       'B', 'B', 'B', 'B', 'M', 'M', 'B', 'M', 'B', 'B', 'M', 'M', 'B',\n",
              "       'B', 'M', 'M', 'B', 'B', 'B', 'B', 'M', 'B', 'B', 'M', 'M', 'M',\n",
              "       'B', 'M', 'B', 'M', 'B', 'B', 'B', 'M', 'B', 'B', 'M', 'M', 'B',\n",
              "       'M', 'M', 'M', 'M', 'B', 'M', 'M', 'M', 'B', 'M', 'B', 'M', 'B',\n",
              "       'B', 'M', 'B', 'M', 'M', 'M', 'M', 'B', 'B', 'M', 'M', 'B', 'B',\n",
              "       'B', 'M', 'B', 'B', 'B', 'B', 'B', 'M', 'M', 'B', 'B', 'M', 'B',\n",
              "       'B', 'M', 'M', 'B', 'M', 'B', 'B', 'B', 'B', 'M', 'B', 'B', 'B',\n",
              "       'B', 'B', 'M', 'B', 'M', 'M', 'M', 'M', 'M', 'M', 'M', 'M', 'M',\n",
              "       'M', 'M', 'M', 'M', 'M', 'B', 'B', 'B', 'B', 'B', 'B', 'M', 'B',\n",
              "       'M', 'B', 'B', 'M', 'B', 'B', 'M', 'B', 'M', 'M', 'B', 'B', 'B',\n",
              "       'B', 'B', 'B', 'B', 'B', 'B', 'B', 'B', 'B', 'B', 'M', 'B', 'B',\n",
              "       'M', 'B', 'M', 'B', 'B', 'B', 'B', 'B', 'B', 'B', 'B', 'B', 'B',\n",
              "       'B', 'B', 'B', 'B', 'M', 'B', 'B', 'B', 'M', 'B', 'M', 'B', 'B',\n",
              "       'B', 'B', 'M', 'M', 'M', 'B', 'B', 'B', 'B', 'M', 'B', 'M', 'B',\n",
              "       'M', 'B', 'B', 'B', 'M', 'B', 'B', 'B', 'B', 'B', 'B', 'B', 'M',\n",
              "       'M', 'M', 'B', 'B', 'B', 'B', 'B', 'B', 'B', 'B', 'B', 'B', 'B',\n",
              "       'M', 'M', 'B', 'M', 'M', 'M', 'B', 'M', 'M', 'B', 'B', 'B', 'B',\n",
              "       'B', 'M', 'B', 'B', 'B', 'B', 'B', 'M', 'B', 'B', 'B', 'M', 'B',\n",
              "       'B', 'M', 'M', 'B', 'B', 'B', 'B', 'B', 'B', 'M', 'B', 'B', 'B',\n",
              "       'B', 'B', 'B', 'B', 'M', 'B', 'B', 'B', 'B', 'B', 'M', 'B', 'B',\n",
              "       'M', 'B', 'B', 'B', 'B', 'B', 'B', 'B', 'B', 'B', 'B', 'B', 'B',\n",
              "       'M', 'B', 'M', 'M', 'B', 'M', 'B', 'B', 'B', 'B', 'B', 'M', 'B',\n",
              "       'B', 'M', 'B', 'M', 'B', 'B', 'M', 'B', 'M', 'B', 'B', 'B', 'B',\n",
              "       'B', 'B', 'B', 'B', 'M', 'M', 'B', 'B', 'B', 'B', 'B', 'B', 'M',\n",
              "       'B', 'B', 'B', 'B', 'B', 'B', 'B', 'B', 'B', 'B', 'M', 'B', 'B',\n",
              "       'B', 'B', 'B', 'B', 'B', 'M', 'B', 'M', 'B', 'B', 'M', 'B', 'B',\n",
              "       'B', 'B', 'B', 'M', 'M', 'B', 'M', 'B', 'M', 'B', 'B', 'B', 'B',\n",
              "       'B', 'M', 'B', 'B', 'M', 'B', 'M', 'B', 'M', 'M', 'B', 'B', 'B',\n",
              "       'M', 'B', 'B', 'B', 'B', 'B', 'B', 'B', 'B', 'B', 'B', 'B', 'M',\n",
              "       'B', 'M', 'M', 'B', 'B', 'B', 'B', 'B', 'B', 'B', 'B', 'B', 'B',\n",
              "       'B', 'B', 'B', 'B', 'B', 'B', 'B', 'B', 'B', 'B', 'B', 'B', 'B',\n",
              "       'B', 'B', 'M', 'M', 'M', 'M', 'M', 'M', 'B'], dtype=object)"
            ]
          },
          "metadata": {},
          "execution_count": 11
        }
      ]
    },
    {
      "cell_type": "markdown",
      "source": [
        "**Phase 2 — Categorical Data**\n",
        "\n",
        "Categorical data are variables that contain label values rather than numeric values.The number of possible values is often limited to a fixed set.\n",
        "\n",
        "For example, users are typically described by country, gender, age group etc.\n",
        "\n",
        "We will use Label Encoder to label the categorical data. Label Encoder is the part of SciKit Learn library in Python and used to convert categorical data, or text data, into numbers, which our predictive models can better understand."
      ],
      "metadata": {
        "id": "0eIuQ-shi3n3"
      }
    },
    {
      "cell_type": "code",
      "source": [
        "#encode Y dataset = M --> 1 and B --> 0\n",
        "from sklearn.preprocessing import LabelEncoder\n",
        "labelencoder_y = LabelEncoder()\n",
        "y = labelencoder_y.fit_transform(y)"
      ],
      "metadata": {
        "id": "eq65Mh7zfBoj"
      },
      "execution_count": 12,
      "outputs": []
    },
    {
      "cell_type": "code",
      "source": [
        "y"
      ],
      "metadata": {
        "colab": {
          "base_uri": "https://localhost:8080/"
        },
        "id": "0aHYR5KWfRj2",
        "outputId": "5cf09b38-fccb-47c7-8c8a-80ce4030b3a4"
      },
      "execution_count": 13,
      "outputs": [
        {
          "output_type": "execute_result",
          "data": {
            "text/plain": [
              "array([1, 1, 1, 1, 1, 1, 1, 1, 1, 1, 1, 1, 1, 1, 1, 1, 1, 1, 0, 0, 0, 1,\n",
              "       1, 1, 1, 1, 1, 1, 1, 1, 1, 1, 1, 1, 1, 1, 0, 1, 1, 1, 1, 1, 1, 1,\n",
              "       1, 0, 1, 0, 0, 0, 0, 0, 1, 1, 0, 1, 1, 0, 0, 0, 0, 1, 0, 1, 1, 0,\n",
              "       0, 0, 0, 1, 0, 1, 1, 0, 1, 0, 1, 1, 0, 0, 0, 1, 1, 0, 1, 1, 1, 0,\n",
              "       0, 0, 1, 0, 0, 1, 1, 0, 0, 0, 1, 1, 0, 0, 0, 0, 1, 0, 0, 1, 0, 0,\n",
              "       0, 0, 0, 0, 0, 0, 1, 1, 1, 0, 1, 1, 0, 0, 0, 1, 1, 0, 1, 0, 1, 1,\n",
              "       0, 1, 1, 0, 0, 1, 0, 0, 1, 0, 0, 0, 0, 1, 0, 0, 0, 0, 0, 0, 0, 0,\n",
              "       0, 1, 0, 0, 0, 0, 1, 1, 0, 1, 0, 0, 1, 1, 0, 0, 1, 1, 0, 0, 0, 0,\n",
              "       1, 0, 0, 1, 1, 1, 0, 1, 0, 1, 0, 0, 0, 1, 0, 0, 1, 1, 0, 1, 1, 1,\n",
              "       1, 0, 1, 1, 1, 0, 1, 0, 1, 0, 0, 1, 0, 1, 1, 1, 1, 0, 0, 1, 1, 0,\n",
              "       0, 0, 1, 0, 0, 0, 0, 0, 1, 1, 0, 0, 1, 0, 0, 1, 1, 0, 1, 0, 0, 0,\n",
              "       0, 1, 0, 0, 0, 0, 0, 1, 0, 1, 1, 1, 1, 1, 1, 1, 1, 1, 1, 1, 1, 1,\n",
              "       1, 0, 0, 0, 0, 0, 0, 1, 0, 1, 0, 0, 1, 0, 0, 1, 0, 1, 1, 0, 0, 0,\n",
              "       0, 0, 0, 0, 0, 0, 0, 0, 0, 0, 1, 0, 0, 1, 0, 1, 0, 0, 0, 0, 0, 0,\n",
              "       0, 0, 0, 0, 0, 0, 0, 0, 1, 0, 0, 0, 1, 0, 1, 0, 0, 0, 0, 1, 1, 1,\n",
              "       0, 0, 0, 0, 1, 0, 1, 0, 1, 0, 0, 0, 1, 0, 0, 0, 0, 0, 0, 0, 1, 1,\n",
              "       1, 0, 0, 0, 0, 0, 0, 0, 0, 0, 0, 0, 1, 1, 0, 1, 1, 1, 0, 1, 1, 0,\n",
              "       0, 0, 0, 0, 1, 0, 0, 0, 0, 0, 1, 0, 0, 0, 1, 0, 0, 1, 1, 0, 0, 0,\n",
              "       0, 0, 0, 1, 0, 0, 0, 0, 0, 0, 0, 1, 0, 0, 0, 0, 0, 1, 0, 0, 1, 0,\n",
              "       0, 0, 0, 0, 0, 0, 0, 0, 0, 0, 0, 1, 0, 1, 1, 0, 1, 0, 0, 0, 0, 0,\n",
              "       1, 0, 0, 1, 0, 1, 0, 0, 1, 0, 1, 0, 0, 0, 0, 0, 0, 0, 0, 1, 1, 0,\n",
              "       0, 0, 0, 0, 0, 1, 0, 0, 0, 0, 0, 0, 0, 0, 0, 0, 1, 0, 0, 0, 0, 0,\n",
              "       0, 0, 1, 0, 1, 0, 0, 1, 0, 0, 0, 0, 0, 1, 1, 0, 1, 0, 1, 0, 0, 0,\n",
              "       0, 0, 1, 0, 0, 1, 0, 1, 0, 1, 1, 0, 0, 0, 1, 0, 0, 0, 0, 0, 0, 0,\n",
              "       0, 0, 0, 0, 1, 0, 1, 1, 0, 0, 0, 0, 0, 0, 0, 0, 0, 0, 0, 0, 0, 0,\n",
              "       0, 0, 0, 0, 0, 0, 0, 0, 0, 0, 0, 1, 1, 1, 1, 1, 1, 0])"
            ]
          },
          "metadata": {},
          "execution_count": 13
        }
      ]
    },
    {
      "cell_type": "markdown",
      "source": [
        "**Split Dataset in Train Dataset and Test Dataset**\n",
        "\n",
        "The data we use is usually split into training data and test data. The training set contains a known output and the model learns on this data in order to be generalized to other data later on. We have the test dataset (or subset) in order to test our model’s prediction on this subset.\n",
        "\n",
        "We will do this using SciKit-Learn library in Python using the train_test_split method."
      ],
      "metadata": {
        "id": "gsELOdTkhj-x"
      }
    },
    {
      "cell_type": "markdown",
      "source": [
        "![image.png](data:image/png;base64,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)"
      ],
      "metadata": {
        "id": "nwbvoiwfgEAg"
      }
    },
    {
      "cell_type": "code",
      "source": [
        "# Splitting the dataset into the Training set and Test set\n",
        "from sklearn.model_selection import train_test_split\n",
        "X_train, X_test, Y_train, Y_test = train_test_split(X, y, test_size = 0.25, random_state = 0)"
      ],
      "metadata": {
        "id": "7gb8vI3vf0vI"
      },
      "execution_count": 14,
      "outputs": []
    },
    {
      "cell_type": "code",
      "source": [
        "print(\"X train dimensions : {}\".format(X_train.shape))\n",
        "print(\"X test dimensions : {}\".format(X_test.shape))\n",
        "print(\"Y train dimensions : {}\".format(Y_train.shape))\n",
        "print(\"X test dimensions : {}\".format(Y_test.shape))"
      ],
      "metadata": {
        "colab": {
          "base_uri": "https://localhost:8080/"
        },
        "id": "ujENvDSlgTTw",
        "outputId": "d2b5ec60-0bfd-4a2b-cfea-5756a7078d27"
      },
      "execution_count": 15,
      "outputs": [
        {
          "output_type": "stream",
          "name": "stdout",
          "text": [
            "X train dimensions : (426, 29)\n",
            "X test dimensions : (142, 29)\n",
            "Y train dimensions : (426,)\n",
            "X test dimensions : (142,)\n"
          ]
        }
      ]
    },
    {
      "cell_type": "markdown",
      "source": [
        "**Phase 3 - Scaling Data**\n",
        "\n",
        "Most of the times, your dataset will contain features highly varying in magnitudes, units and range. But since, most of the machine learning algorithms use Eucledian distance between two data points in their computations. We need to bring all features to the same level of magnitudes. This can be achieved by scaling. This means that you’re transforming your data so that it fits within a specific scale, like 0–100 or 0–1.\n",
        "\n",
        "We will use StandardScaler method from SciKit-Learn library."
      ],
      "metadata": {
        "id": "1-dkKZcHh4Om"
      }
    },
    {
      "cell_type": "code",
      "source": [
        "from sklearn.preprocessing import StandardScaler\n",
        "sc = StandardScaler()\n",
        "X_train = sc.fit_transform(X_train)\n",
        "X_test = sc.transform(X_test)"
      ],
      "metadata": {
        "id": "WKn40BN2gtPB"
      },
      "execution_count": 16,
      "outputs": []
    },
    {
      "cell_type": "code",
      "source": [
        "X_train"
      ],
      "metadata": {
        "colab": {
          "base_uri": "https://localhost:8080/"
        },
        "id": "0cb68TwWiV4w",
        "outputId": "8673b97d-2fb0-4ebc-980c-d08a3921c9b2"
      },
      "execution_count": 17,
      "outputs": [
        {
          "output_type": "execute_result",
          "data": {
            "text/plain": [
              "array([[-0.54071162,  0.68488705, -0.53230722, ..., -0.51551942,\n",
              "        -0.51945462, -1.02730757],\n",
              "       [-0.42882223, -1.31963105, -0.45003493, ..., -1.07303798,\n",
              "        -0.802171  , -0.86583411],\n",
              "       [-0.8616575 , -1.08212891, -0.89336744, ..., -1.29711764,\n",
              "        -1.5163697 , -0.15279293],\n",
              "       ...,\n",
              "       [-0.48182247, -0.30074685, -0.55063731, ..., -1.30638968,\n",
              "        -1.52125728, -1.08326371],\n",
              "       [-0.54071162,  1.78689701, -0.47689065, ...,  0.79462766,\n",
              "         0.45745189,  0.48670589],\n",
              "       [-0.03720937,  1.85577263, -0.04080492, ..., -0.68880157,\n",
              "        -0.1702976 , -1.05608501]])"
            ]
          },
          "metadata": {},
          "execution_count": 17
        }
      ]
    },
    {
      "cell_type": "code",
      "source": [
        "X_test"
      ],
      "metadata": {
        "colab": {
          "base_uri": "https://localhost:8080/"
        },
        "id": "hfZnaVRHib_L",
        "outputId": "3a01f720-9453-4e22-9571-69644fc6877a"
      },
      "execution_count": 18,
      "outputs": [
        {
          "output_type": "execute_result",
          "data": {
            "text/plain": [
              "array([[ 0.11884688, -1.34813131,  0.08324292, ..., -0.13066072,\n",
              "        -0.36793942, -0.45495612],\n",
              "       [-0.34637742,  1.3760183 , -0.41465359, ..., -1.1099442 ,\n",
              "        -0.86662606, -0.96655518],\n",
              "       [-0.94410231, -0.50737371, -0.8784476 , ...,  0.96408037,\n",
              "         0.60407951, -0.59244837],\n",
              "       ...,\n",
              "       [-1.6048386 , -0.83275165, -1.55580852, ..., -0.1478932 ,\n",
              "        -0.16724286,  0.02466799],\n",
              "       [-0.06959841, -1.46450736, -0.08641702, ..., -0.57726913,\n",
              "        -0.22070085, -1.19997225],\n",
              "       [ 1.14057366, -0.75675097,  1.18773767, ...,  0.48875116,\n",
              "         1.43955147,  1.34363431]])"
            ]
          },
          "metadata": {},
          "execution_count": 18
        }
      ]
    },
    {
      "cell_type": "markdown",
      "source": [
        "**Phase 4 — Model Selection**\n",
        "\n",
        "This is the most exciting phase in Applying Machine Learning to any Dataset. It is also known as Algorithm selection for Predicting the best results.\n",
        "\n",
        "Usually Data Scientists use different kinds of Machine Learning algorithms to the large data sets. But, at high level all those different algorithms can be classified in two groups : supervised learning and unsupervised learning.\n",
        "\n",
        "Without wasting much time, I would just give a brief overview about these two types of learnings.\n",
        "\n",
        "Supervised learning : Supervised learning is a type of system in which both input and desired output data are provided. Input and output data are labelled for classification to provide a learning basis for future data processing. Supervised learning problems can be further grouped into Regression and Classification problems.\n",
        "\n",
        "A regression problem is when the output variable is a real or continuous value, such as “salary” or “weight”.\n",
        "\n",
        "A classification problem is when the output variable is a category like filtering emails “spam” or “not spam”\n",
        "\n",
        "Unsupervised Learning : Unsupervised learning is the algorithm using information that is neither classified nor labeled and allowing the algorithm to act on that information without guidance.\n",
        "\n",
        "In our dataset we have the outcome variable or Dependent variable i.e Y having only two set of values, either M (Malign) or B(Benign). So we will use Classification algorithm of supervised learning.\n",
        "\n",
        "We have different types of classification algorithms in Machine Learning :-\n",
        "\n",
        "1. Logistic Regression\n",
        "\n",
        "2. Nearest Neighbor\n",
        "\n",
        "3. Support Vector Machines\n",
        "\n",
        "4. Kernel SVM\n",
        "\n",
        "5. Naïve Bayes\n",
        "\n",
        "6. Decision Tree Algorithm\n",
        "\n",
        "7. Random Forest Classification\n",
        "\n",
        "Lets start applying the algorithms :\n",
        "\n",
        "We will use sklearn library to import all the methods of classification algorithms.\n",
        "\n",
        "We will use LogisticRegression method of model selection to use Logistic Regression Algorithm,"
      ],
      "metadata": {
        "id": "plD-X4BkjMPM"
      }
    },
    {
      "cell_type": "code",
      "source": [
        "#Using Logistic Regression Algorithm to the Training Set\n",
        "from sklearn.linear_model import LogisticRegression\n",
        "classifier = LogisticRegression(random_state = 0)\n",
        "classifier.fit(X_train, Y_train)\n",
        "\n",
        "Y_pred_logistRegression = classifier.predict(X_test)\n",
        "Y_pred_logistRegression"
      ],
      "metadata": {
        "colab": {
          "base_uri": "https://localhost:8080/"
        },
        "id": "fnRsOqAsjGUN",
        "outputId": "b129939d-81b9-47b1-af92-5a0f152d0433"
      },
      "execution_count": 32,
      "outputs": [
        {
          "output_type": "execute_result",
          "data": {
            "text/plain": [
              "array([0, 0, 0, 0, 1, 1, 0, 0, 0, 0, 0, 0, 1, 0, 0, 0, 0, 0, 0, 0, 1, 0,\n",
              "       0, 1, 1, 0, 0, 1, 1, 0, 1, 1, 0, 0, 1, 1, 0, 0, 1, 0, 0, 0, 1, 0,\n",
              "       0, 1, 0, 1, 0, 1, 0, 0, 0, 0, 1, 0, 0, 0, 0, 0, 1, 0, 0, 0, 0, 0,\n",
              "       0, 0, 0, 0, 0, 1, 1, 0, 0, 0, 0, 0, 1, 1, 1, 0, 1, 0, 0, 1, 0, 1,\n",
              "       1, 1, 1, 0, 1, 1, 1, 0, 0, 0, 0, 0, 1, 1, 0, 0, 1, 0, 0, 0, 1, 1,\n",
              "       0, 1, 1, 1, 1, 0, 0, 0, 0, 1, 1, 0, 0, 0, 0, 0, 0, 1, 0, 0, 0, 1,\n",
              "       0, 0, 0, 0, 0, 0, 1, 0, 0, 1])"
            ]
          },
          "metadata": {},
          "execution_count": 32
        }
      ]
    },
    {
      "cell_type": "code",
      "source": [
        "#Using KNeighborsClassifier Method of neighbors class to use Nearest Neighbor algorithm\n",
        "from sklearn.neighbors import KNeighborsClassifier\n",
        "classifier = KNeighborsClassifier(n_neighbors = 5, metric = 'minkowski', p = 2)\n",
        "classifier.fit(X_train, Y_train)\n",
        "\n",
        "Y_pred_knn = classifier.predict(X_test)\n",
        "Y_pred_knn"
      ],
      "metadata": {
        "colab": {
          "base_uri": "https://localhost:8080/"
        },
        "id": "lQmSlXD2BdeP",
        "outputId": "53139ca5-560f-4cf7-e886-680b77904ff6"
      },
      "execution_count": 33,
      "outputs": [
        {
          "output_type": "execute_result",
          "data": {
            "text/plain": [
              "array([0, 0, 0, 0, 0, 1, 0, 0, 0, 0, 0, 0, 0, 0, 0, 0, 0, 0, 0, 0, 1, 0,\n",
              "       0, 1, 1, 0, 0, 1, 1, 0, 1, 1, 0, 0, 1, 1, 0, 0, 1, 0, 0, 0, 1, 0,\n",
              "       0, 1, 0, 1, 0, 1, 1, 0, 0, 0, 1, 0, 0, 0, 0, 0, 1, 0, 0, 0, 0, 0,\n",
              "       0, 0, 0, 0, 0, 1, 1, 0, 0, 0, 0, 0, 1, 1, 1, 0, 1, 0, 0, 1, 0, 1,\n",
              "       1, 1, 1, 0, 0, 1, 1, 0, 0, 0, 1, 0, 1, 1, 0, 0, 0, 0, 0, 0, 1, 1,\n",
              "       0, 1, 1, 1, 1, 0, 0, 0, 0, 0, 1, 0, 0, 0, 0, 0, 0, 1, 0, 0, 0, 1,\n",
              "       0, 0, 0, 0, 0, 0, 1, 0, 0, 1])"
            ]
          },
          "metadata": {},
          "execution_count": 33
        }
      ]
    },
    {
      "cell_type": "code",
      "source": [
        "#Using SVC method of svm class to use Support Vector Machine Algorithm\n",
        "from sklearn.svm import SVC\n",
        "classifier = SVC(kernel = 'linear', random_state = 0)\n",
        "classifier.fit(X_train, Y_train)\n",
        "\n",
        "Y_pred_svmLinear = classifier.predict(X_test)\n",
        "Y_pred_svmLinear"
      ],
      "metadata": {
        "colab": {
          "base_uri": "https://localhost:8080/"
        },
        "id": "qUk5bmEAjWyd",
        "outputId": "38680888-4890-4ebb-c9cd-4a611a6d1b26"
      },
      "execution_count": 34,
      "outputs": [
        {
          "output_type": "execute_result",
          "data": {
            "text/plain": [
              "array([0, 0, 0, 0, 0, 1, 0, 0, 0, 0, 0, 0, 1, 0, 0, 0, 0, 0, 0, 0, 1, 0,\n",
              "       0, 1, 1, 0, 0, 1, 1, 0, 1, 1, 0, 0, 1, 1, 0, 0, 1, 0, 0, 0, 1, 0,\n",
              "       0, 1, 0, 1, 0, 1, 0, 0, 0, 0, 1, 0, 0, 0, 0, 0, 1, 0, 0, 0, 0, 0,\n",
              "       0, 0, 0, 0, 0, 1, 1, 0, 0, 0, 1, 0, 1, 1, 1, 0, 1, 0, 0, 1, 0, 1,\n",
              "       1, 1, 1, 0, 1, 1, 1, 0, 0, 0, 0, 0, 1, 1, 0, 0, 1, 0, 0, 0, 1, 1,\n",
              "       0, 1, 1, 1, 1, 0, 0, 0, 0, 1, 1, 0, 0, 0, 0, 0, 0, 1, 0, 0, 0, 1,\n",
              "       0, 0, 0, 0, 0, 0, 1, 0, 0, 1])"
            ]
          },
          "metadata": {},
          "execution_count": 34
        }
      ]
    },
    {
      "cell_type": "code",
      "source": [
        "#Using SVC method of svm class to use Kernel SVM Algorithm\n",
        "from sklearn.svm import SVC\n",
        "classifier = SVC(kernel = 'rbf', random_state = 0)\n",
        "classifier.fit(X_train, Y_train)\n",
        "\n",
        "Y_pred_svmRBF = classifier.predict(X_test)\n",
        "Y_pred_svmRBF"
      ],
      "metadata": {
        "colab": {
          "base_uri": "https://localhost:8080/"
        },
        "id": "VC38-uDcjbcl",
        "outputId": "21f6ffec-a25a-457d-97f1-41336f79ba4d"
      },
      "execution_count": 35,
      "outputs": [
        {
          "output_type": "execute_result",
          "data": {
            "text/plain": [
              "array([0, 0, 0, 0, 1, 1, 0, 0, 0, 0, 0, 0, 0, 0, 0, 0, 0, 0, 0, 0, 1, 0,\n",
              "       0, 1, 1, 0, 0, 1, 1, 0, 1, 1, 0, 0, 1, 1, 0, 0, 1, 0, 0, 0, 1, 0,\n",
              "       0, 1, 0, 1, 0, 1, 0, 0, 0, 0, 1, 0, 0, 0, 0, 0, 1, 0, 0, 0, 0, 0,\n",
              "       0, 0, 0, 0, 0, 1, 1, 0, 0, 0, 0, 0, 1, 1, 1, 0, 1, 0, 0, 1, 0, 1,\n",
              "       1, 1, 1, 0, 0, 1, 1, 0, 0, 0, 0, 0, 1, 1, 0, 0, 0, 0, 0, 0, 1, 1,\n",
              "       0, 1, 1, 1, 1, 0, 0, 0, 0, 0, 1, 0, 0, 0, 0, 0, 0, 1, 0, 0, 0, 1,\n",
              "       0, 0, 0, 0, 0, 0, 1, 0, 0, 1])"
            ]
          },
          "metadata": {},
          "execution_count": 35
        }
      ]
    },
    {
      "cell_type": "code",
      "source": [
        "#Using GaussianNB method of naïve_bayes class to use Naïve Bayes Algorithm\n",
        "from sklearn.naive_bayes import GaussianNB\n",
        "classifier = GaussianNB()\n",
        "classifier.fit(X_train, Y_train)\n",
        "\n",
        "Y_pred_Gaussian = classifier.predict(X_test)\n",
        "Y_pred_Gaussian"
      ],
      "metadata": {
        "colab": {
          "base_uri": "https://localhost:8080/"
        },
        "id": "U-CjOCMmjerc",
        "outputId": "ed8c28b1-8238-4af8-9625-fda069a4452c"
      },
      "execution_count": 36,
      "outputs": [
        {
          "output_type": "execute_result",
          "data": {
            "text/plain": [
              "array([0, 0, 0, 0, 1, 1, 0, 0, 0, 0, 0, 0, 0, 0, 0, 0, 0, 0, 0, 0, 1, 0,\n",
              "       0, 1, 1, 0, 0, 1, 1, 0, 1, 1, 0, 0, 1, 1, 0, 1, 1, 0, 0, 0, 1, 0,\n",
              "       0, 1, 0, 1, 0, 1, 1, 0, 0, 0, 1, 0, 0, 0, 0, 0, 1, 0, 0, 0, 0, 0,\n",
              "       0, 0, 0, 0, 0, 1, 1, 0, 0, 0, 0, 0, 1, 1, 1, 0, 1, 0, 0, 0, 0, 1,\n",
              "       1, 1, 1, 0, 0, 1, 1, 0, 0, 0, 1, 0, 1, 1, 0, 0, 0, 0, 0, 0, 1, 1,\n",
              "       0, 1, 1, 1, 1, 0, 0, 0, 1, 0, 1, 0, 0, 0, 0, 0, 0, 1, 0, 0, 0, 1,\n",
              "       0, 0, 0, 0, 0, 0, 1, 0, 0, 1])"
            ]
          },
          "metadata": {},
          "execution_count": 36
        }
      ]
    },
    {
      "cell_type": "code",
      "source": [
        "#Using DecisionTreeClassifier of tree class to use Decision Tree Algorithm\n",
        "\n",
        "from sklearn.tree import DecisionTreeClassifier\n",
        "classifier = DecisionTreeClassifier(criterion = 'entropy', random_state = 0)\n",
        "classifier.fit(X_train, Y_train)\n",
        "\n",
        "Y_pred_DecisionTree = classifier.predict(X_test)\n",
        "Y_pred_DecisionTree"
      ],
      "metadata": {
        "colab": {
          "base_uri": "https://localhost:8080/"
        },
        "id": "ELrhvGemjiOz",
        "outputId": "d8d52b0f-4f84-444b-db27-e60240fa2b7f"
      },
      "execution_count": 37,
      "outputs": [
        {
          "output_type": "execute_result",
          "data": {
            "text/plain": [
              "array([0, 0, 1, 0, 1, 1, 0, 0, 0, 0, 0, 0, 0, 0, 0, 0, 0, 0, 0, 0, 1, 0,\n",
              "       0, 1, 1, 0, 0, 1, 1, 0, 1, 1, 0, 1, 1, 1, 0, 1, 1, 0, 0, 0, 1, 0,\n",
              "       0, 1, 0, 1, 0, 1, 0, 0, 0, 0, 1, 0, 0, 0, 0, 0, 1, 0, 0, 0, 1, 1,\n",
              "       0, 0, 0, 0, 0, 1, 1, 0, 0, 0, 0, 0, 1, 1, 1, 0, 1, 0, 0, 0, 0, 1,\n",
              "       1, 1, 1, 0, 0, 1, 1, 0, 0, 0, 0, 0, 1, 1, 0, 0, 0, 0, 0, 0, 1, 1,\n",
              "       0, 1, 1, 1, 1, 0, 0, 0, 1, 1, 1, 0, 1, 0, 0, 0, 0, 1, 0, 0, 0, 1,\n",
              "       0, 1, 0, 0, 0, 0, 1, 0, 0, 1])"
            ]
          },
          "metadata": {},
          "execution_count": 37
        }
      ]
    },
    {
      "cell_type": "code",
      "source": [
        "#Using RandomForestClassifier method of ensemble class to use Random Forest Classification algorithm\n",
        "\n",
        "from sklearn.ensemble import RandomForestClassifier\n",
        "classifier = RandomForestClassifier(n_estimators = 10, criterion = 'entropy', random_state = 0)\n",
        "classifier.fit(X_train, Y_train)\n",
        "\n",
        "Y_pred_RandomForest = classifier.predict(X_test)\n",
        "Y_pred_RandomForest\n"
      ],
      "metadata": {
        "colab": {
          "base_uri": "https://localhost:8080/"
        },
        "id": "XjLU96JbjlcS",
        "outputId": "7c9e62e1-fe4b-48f7-bf2a-61615520248f"
      },
      "execution_count": 38,
      "outputs": [
        {
          "output_type": "execute_result",
          "data": {
            "text/plain": [
              "array([0, 0, 0, 0, 0, 1, 0, 0, 0, 0, 0, 1, 0, 0, 0, 0, 0, 0, 0, 0, 1, 0,\n",
              "       0, 1, 1, 0, 0, 1, 1, 0, 1, 1, 0, 1, 1, 1, 0, 0, 1, 0, 0, 0, 1, 0,\n",
              "       0, 1, 0, 1, 0, 1, 0, 0, 0, 0, 1, 0, 0, 0, 0, 0, 1, 0, 0, 0, 0, 0,\n",
              "       0, 0, 0, 0, 0, 1, 1, 0, 0, 0, 0, 0, 1, 1, 1, 0, 1, 0, 0, 1, 0, 1,\n",
              "       1, 1, 1, 0, 0, 1, 1, 0, 0, 0, 1, 0, 1, 1, 0, 0, 0, 0, 0, 0, 1, 1,\n",
              "       0, 1, 1, 1, 1, 0, 0, 0, 1, 0, 1, 0, 0, 0, 0, 0, 0, 1, 0, 0, 0, 1,\n",
              "       0, 0, 0, 0, 0, 0, 1, 0, 0, 1])"
            ]
          },
          "metadata": {},
          "execution_count": 38
        }
      ]
    },
    {
      "cell_type": "markdown",
      "source": [
        "**Verify accuracy score - confusion matrix**\n",
        "\n",
        "To check the accuracy we need to import confusion_matrix method of metrics class. The confusion matrix is a way of tabulating the number of mis-classifications, i.e., the number of predicted classes which ended up in a wrong classification bin based on the true classes.\n",
        "\n",
        "We will use Classification Accuracy method to find the accuracy of our models. Classification Accuracy is what we usually mean, when we use the term accuracy. It is the ratio of number of correct predictions to the total number of input samples.\n",
        "\n",
        "![image.png](data:image/png;base64,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)\n",
        "\n",
        "Fig: Accuracy\n",
        "\n",
        "\n",
        "To check the correct prediction we have to check confusion matrix object and add the predicted results diagonally which will be number of correct prediction and then divide by total number of predictions.\n",
        "\n",
        "![image.png](data:image/png;base64,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)\n",
        "\n",
        "Fig: Confusion Matrix\n",
        "\n",
        "After applying the different classification models, we have got below accuracies with different models:"
      ],
      "metadata": {
        "id": "3AysnTLZk9qr"
      }
    },
    {
      "cell_type": "code",
      "source": [
        "#import confusion_matrix from sklearn\n",
        "from sklearn.metrics import confusion_matrix\n",
        "\n",
        "#calc accuracy\n",
        "cm_logistic = confusion_matrix(Y_test, Y_pred_logistRegression)\n",
        "cm_knn = confusion_matrix(Y_test, Y_pred_knn)\n",
        "cm_svmlinear = confusion_matrix(Y_test, Y_pred_svmLinear)\n",
        "cm_svmrbf = confusion_matrix(Y_test, Y_pred_svmRBF)\n",
        "cm_gaussian = confusion_matrix(Y_test, Y_pred_Gaussian)\n",
        "cm_decisiontree = confusion_matrix(Y_test, Y_pred_DecisionTree)\n",
        "cm_randomforest = confusion_matrix(Y_test, Y_pred_RandomForest)"
      ],
      "metadata": {
        "id": "zr9GtGh5lEzZ"
      },
      "execution_count": 43,
      "outputs": []
    },
    {
      "cell_type": "code",
      "source": [
        "#confusion matrix\n",
        "print(\"logistic\")\n",
        "print(cm_logistic)\n",
        "\n",
        "print(\"knn\")\n",
        "print(cm_knn)\n",
        "\n",
        "print(\"svm linear\")\n",
        "print(cm_svmlinear)\n"
      ],
      "metadata": {
        "colab": {
          "base_uri": "https://localhost:8080/"
        },
        "id": "kcscknHaB9rb",
        "outputId": "395cf4a9-2cb1-4633-e9f4-0a01615f5ab4"
      },
      "execution_count": 45,
      "outputs": [
        {
          "output_type": "stream",
          "name": "stdout",
          "text": [
            "logistic\n",
            "[[91  1]\n",
            " [ 3 47]]\n",
            "knn\n",
            "[[91  1]\n",
            " [ 6 44]]\n",
            "svm linear\n",
            "[[90  2]\n",
            " [ 4 46]]\n"
          ]
        }
      ]
    },
    {
      "cell_type": "code",
      "source": [
        "#import accuracy score from sklearn\n",
        "from sklearn.metrics import accuracy_score\n",
        "\n",
        "\n",
        "print(\"Accuracy Logistic Regression : {}\".format(accuracy_score(Y_test, Y_pred_logistRegression)*100))\n",
        "print(\"Accuracy knn : {}\".format(accuracy_score(Y_test, Y_pred_knn)*100))\n",
        "print(\"Accuracy svm linear : {}\".format(accuracy_score(Y_test, Y_pred_svmLinear)*100))\n",
        "print(\"Accuracy svm rbf : {}\".format(accuracy_score(Y_test, Y_pred_svmRBF)*100))\n",
        "print(\"Accuracy Naive Bayes(Gaussian) : {}\".format(accuracy_score(Y_test, Y_pred_Gaussian)*100))\n",
        "print(\"Accuracy Decision Tree : {}\".format(accuracy_score(Y_test, Y_pred_DecisionTree)*100))\n",
        "print(\"Accuracy Random Forest : {}\".format(accuracy_score(Y_test, Y_pred_RandomForest)*100))\n",
        "\n",
        "\n"
      ],
      "metadata": {
        "colab": {
          "base_uri": "https://localhost:8080/"
        },
        "id": "EJHx-uln9jGS",
        "outputId": "df2a35bc-607b-4b58-e19d-40314f1a08e9"
      },
      "execution_count": 47,
      "outputs": [
        {
          "output_type": "stream",
          "name": "stdout",
          "text": [
            "Accuracy Logistic Regression : 97.1830985915493\n",
            "Accuracy knn : 95.07042253521126\n",
            "Accuracy svm linear : 95.77464788732394\n",
            "Accuracy svm rbf : 95.77464788732394\n",
            "Accuracy Naive Bayes(Gaussian) : 93.66197183098592\n",
            "Accuracy Decision Tree : 90.14084507042254\n",
            "Accuracy Random Forest : 93.66197183098592\n"
          ]
        }
      ]
    }
  ]
}